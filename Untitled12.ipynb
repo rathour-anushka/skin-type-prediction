{
 "cells": [
  {
   "cell_type": "code",
   "execution_count": 1,
   "metadata": {
    "colab": {
     "base_uri": "https://localhost:8080/"
    },
    "executionInfo": {
     "elapsed": 699,
     "status": "ok",
     "timestamp": 1754451402129,
     "user": {
      "displayName": "Anushka Rathour",
      "userId": "17765780449852268020"
     },
     "user_tz": -330
    },
    "id": "MGZDeLZ0b9H0",
    "outputId": "65a2ed25-2284-4239-ee1a-bc5850b34077"
   },
   "outputs": [
    {
     "data": {
      "text/plain": [
       "'import zipfile\\nimport os\\n\\n# Path to the uploaded zip file\\nzip_path = \"/content/Skin Type Identification Research.zip\"\\n\\n# Destination directory\\nextract_dir = \"/content/Skin Type Identification Research\"\\n\\n# Unzip the file\\nwith zipfile.ZipFile(zip_path, \\'r\\') as zip_ref:\\n    zip_ref.extractall(extract_dir)\\n\\nprint(\"Unzipping complete. Files extracted to:\", extract_dir)\\n'"
      ]
     },
     "execution_count": 1,
     "metadata": {},
     "output_type": "execute_result"
    }
   ],
   "source": [
    "'''import zipfile\n",
    "import os\n",
    "\n",
    "# Path to the uploaded zip file\n",
    "zip_path = \"/content/Skin Type Identification Research.zip\"\n",
    "\n",
    "# Destination directory\n",
    "extract_dir = \"/content/Skin Type Identification Research\"\n",
    "\n",
    "# Unzip the file\n",
    "with zipfile.ZipFile(zip_path, 'r') as zip_ref:\n",
    "    zip_ref.extractall(extract_dir)\n",
    "\n",
    "print(\"Unzipping complete. Files extracted to:\", extract_dir)\n",
    "'''"
   ]
  },
  {
   "cell_type": "code",
   "execution_count": 2,
   "metadata": {
    "colab": {
     "base_uri": "https://localhost:8080/"
    },
    "executionInfo": {
     "elapsed": 4,
     "status": "ok",
     "timestamp": 1754451402137,
     "user": {
      "displayName": "Anushka Rathour",
      "userId": "17765780449852268020"
     },
     "user_tz": -330
    },
    "id": "qBJQbtoSSkEN",
    "outputId": "3d8dea3f-7b2e-4f58-be22-1e333c9b74b9"
   },
   "outputs": [
    {
     "data": {
      "text/plain": [
       "'from PIL import Image\\nimport os\\nimport numpy as np\\n\\nbase_path = \"Skin Type Identification Research\"\\nimage_sizes = []\\n\\nfor class_dir in os.listdir(base_path):\\n    class_path = os.path.join(base_path, class_dir)\\n    if os.path.isdir(class_path):\\n        for img_name in os.listdir(class_path)[:5]:  # Sample 5 images per class\\n            img_path = os.path.join(class_path, img_name)\\n            try:\\n                with Image.open(img_path) as img:\\n                    image_sizes.append(img.size)  # (width, height)\\n            except:\\n                continue\\n\\nwidths, heights = zip(*image_sizes)\\nprint(f\"Average Image Size: {int(np.mean(widths))} x {int(np.mean(heights))}\")\\nprint(f\"Unique Sizes Found: {set(image_sizes)}\")\\n'"
      ]
     },
     "execution_count": 2,
     "metadata": {},
     "output_type": "execute_result"
    }
   ],
   "source": [
    "'''from PIL import Image\n",
    "import os\n",
    "import numpy as np\n",
    "\n",
    "base_path = \"Skin Type Identification Research\"\n",
    "image_sizes = []\n",
    "\n",
    "for class_dir in os.listdir(base_path):\n",
    "    class_path = os.path.join(base_path, class_dir)\n",
    "    if os.path.isdir(class_path):\n",
    "        for img_name in os.listdir(class_path)[:5]:  # Sample 5 images per class\n",
    "            img_path = os.path.join(class_path, img_name)\n",
    "            try:\n",
    "                with Image.open(img_path) as img:\n",
    "                    image_sizes.append(img.size)  # (width, height)\n",
    "            except:\n",
    "                continue\n",
    "\n",
    "widths, heights = zip(*image_sizes)\n",
    "print(f\"Average Image Size: {int(np.mean(widths))} x {int(np.mean(heights))}\")\n",
    "print(f\"Unique Sizes Found: {set(image_sizes)}\")\n",
    "'''"
   ]
  },
  {
   "cell_type": "code",
   "execution_count": 1,
   "metadata": {
    "executionInfo": {
     "elapsed": 12,
     "status": "ok",
     "timestamp": 1754451402152,
     "user": {
      "displayName": "Anushka Rathour",
      "userId": "17765780449852268020"
     },
     "user_tz": -330
    },
    "id": "JXLY6mIhU90w"
   },
   "outputs": [],
   "source": [
    "import os\n",
    "import numpy as np\n",
    "# Set paths\n",
    "base_path = \"Skin Type Identification Research\"\n",
    "train_dir = os.path.join(base_path, \"Train\")\n",
    "val_dir = os.path.join(base_path, \"Validation\")\n",
    "test_dir = os.path.join(base_path, \"Test\")"
   ]
  },
  {
   "cell_type": "code",
   "execution_count": 2,
   "metadata": {
    "executionInfo": {
     "elapsed": 1,
     "status": "ok",
     "timestamp": 1754451402158,
     "user": {
      "displayName": "Anushka Rathour",
      "userId": "17765780449852268020"
     },
     "user_tz": -330
    },
    "id": "rt-M0dUpVW7d"
   },
   "outputs": [],
   "source": [
    "import tensorflow as tf\n",
    "from tensorflow.keras.applications import MobileNetV2\n",
    "from tensorflow.keras.models import Model\n",
    "from tensorflow.keras.layers import Dense, GlobalAveragePooling2D, Dropout\n",
    "from tensorflow.keras.preprocessing.image import ImageDataGenerator\n",
    "from tensorflow.keras.optimizers import Adam\n",
    "import matplotlib.pyplot as plt\n"
   ]
  },
  {
   "cell_type": "code",
   "execution_count": 13,
   "metadata": {},
   "outputs": [
    {
     "name": "stdout",
     "output_type": "stream",
     "text": [
      "Counter({'Combination': 360, 'Dry': 360, 'Normal': 360, 'Oily': 360, 'Sensitive': 360})\n"
     ]
    }
   ],
   "source": [
    "import os\n",
    "from collections import Counter\n",
    "\n",
    "data_dir = r\"Skin Type Identification Research\\Train\"\n",
    "\n",
    "labels = []\n",
    "for label in os.listdir(data_dir):\n",
    "    path = os.path.join(data_dir, label)\n",
    "    if os.path.isdir(path):\n",
    "        labels.extend([label] * len(os.listdir(path)))\n",
    "\n",
    "print(Counter(labels))\n"
   ]
  },
  {
   "cell_type": "code",
   "execution_count": 62,
   "metadata": {},
   "outputs": [
    {
     "name": "stdout",
     "output_type": "stream",
     "text": [
      "📁 Current Working Directory: c:\\Users\\anush\\OneDrive\\Desktop\\face type\n",
      "✅ Train Path: C:\\Users\\anush\\OneDrive\\Desktop\\face type\\Skin Type Identification Research\\Train\n",
      "✅ Validation Path: C:\\Users\\anush\\OneDrive\\Desktop\\face type\\Skin Type Identification Research\\Validation\n",
      "✅ Test Path: C:\\Users\\anush\\OneDrive\\Desktop\\face type\\Skin Type Identification Research\\Test\n",
      "Found 1800 images belonging to 5 classes.\n",
      "Found 225 images belonging to 5 classes.\n",
      "Found 225 images belonging to 5 classes.\n",
      "\n",
      "🧾 Class Indices (Label Mapping): {'Combination': 0, 'Dry': 1, 'Normal': 2, 'Oily': 3, 'Sensitive': 4}\n",
      "✅ Successfully created data generators.\n"
     ]
    }
   ],
   "source": [
    "\n",
    "from keras.src.legacy.preprocessing.image import ImageDataGenerator\n",
    "from pathlib import Path\n",
    "import os\n",
    "\n",
    "\n",
    "# --- 1. Define Base Paths ---\n",
    "base_path = Path(\"Skin Type Identification Research\")\n",
    "train_dir = base_path / \"Train\"\n",
    "val_dir = base_path / \"Validation\"\n",
    "test_dir = base_path / \"Test\"\n",
    "\n",
    "# --- 2. Debugging Info ---\n",
    "print(f\"📁 Current Working Directory: {os.getcwd()}\")\n",
    "print(f\"✅ Train Path: {train_dir.resolve()}\")\n",
    "print(f\"✅ Validation Path: {val_dir.resolve()}\")\n",
    "print(f\"✅ Test Path: {test_dir.resolve()}\")\n",
    "\n",
    "# --- 3. Check Directory Existence ---\n",
    "for path in [train_dir, val_dir, test_dir]:\n",
    "    if not path.is_dir():\n",
    "        raise FileNotFoundError(f\"❌ Directory not found: {path.resolve()}\")\n",
    "\n",
    "# --- 4. Parameters ---\n",
    "IMG_SIZE = (224, 224)  # Required for MobileNetV2\n",
    "BATCH_SIZE = 32\n",
    "\n",
    "# --- 5. Correct MobileNetV2 Preprocessing: [-1, 1] ---\n",
    "mobilenetv2_datagen = ImageDataGenerator(\n",
    "    preprocessing_function=lambda x: (x / 127.5) - 1\n",
    ")\n",
    "\n",
    "# --- 6. Create Data Generators ---\n",
    "train_generator = mobilenetv2_datagen.flow_from_directory(\n",
    "    train_dir,\n",
    "    target_size=IMG_SIZE,\n",
    "    batch_size=BATCH_SIZE,\n",
    "    class_mode='categorical',\n",
    "    shuffle=True\n",
    ")\n",
    "\n",
    "val_generator = mobilenetv2_datagen.flow_from_directory(\n",
    "    val_dir,\n",
    "    target_size=IMG_SIZE,\n",
    "    batch_size=BATCH_SIZE,\n",
    "    class_mode='categorical',\n",
    "    shuffle=False\n",
    ")\n",
    "\n",
    "test_generator = mobilenetv2_datagen.flow_from_directory(\n",
    "    test_dir,\n",
    "    target_size=IMG_SIZE,\n",
    "    batch_size=BATCH_SIZE,\n",
    "    class_mode='categorical',\n",
    "    shuffle=False\n",
    ")\n",
    "\n",
    "# --- 7. Print Class Labels ---\n",
    "print(f\"\\n🧾 Class Indices (Label Mapping): {train_generator.class_indices}\")\n",
    "print(\"✅ Successfully created data generators.\")\n"
   ]
  },
  {
   "cell_type": "code",
   "execution_count": 42,
   "metadata": {},
   "outputs": [
    {
     "name": "stdout",
     "output_type": "stream",
     "text": [
      "{'Combination': 0, 'Dry': 1, 'Normal': 2, 'Oily': 3, 'Sensitive': 4}\n"
     ]
    }
   ],
   "source": [
    "print(train_generator.class_indices)\n"
   ]
  },
  {
   "cell_type": "code",
   "execution_count": 43,
   "metadata": {
    "colab": {
     "base_uri": "https://localhost:8080/"
    },
    "executionInfo": {
     "elapsed": 1427,
     "status": "ok",
     "timestamp": 1754451403635,
     "user": {
      "displayName": "Anushka Rathour",
      "userId": "17765780449852268020"
     },
     "user_tz": -330
    },
    "id": "df1s9jJCVnDY",
    "outputId": "2f37f861-2c2d-4e0b-9ddc-53fbf6ab5571"
   },
   "outputs": [],
   "source": [
    "base_model = MobileNetV2(input_shape=(224, 224, 3),\n",
    "                         include_top=False,\n",
    "                         weights='imagenet')\n",
    "base_model.trainable = False  # Freeze base model\n",
    "\n",
    "# Add custom layers\n",
    "x = base_model.output\n",
    "x = GlobalAveragePooling2D()(x)\n",
    "x = Dropout(0.3)(x)\n",
    "outputs = Dense(train_generator.num_classes, activation='softmax')(x)\n",
    "\n",
    "model = Model(inputs=base_model.input, outputs=outputs)\n"
   ]
  },
  {
   "cell_type": "code",
   "execution_count": 44,
   "metadata": {
    "executionInfo": {
     "elapsed": 22,
     "status": "ok",
     "timestamp": 1754451403659,
     "user": {
      "displayName": "Anushka Rathour",
      "userId": "17765780449852268020"
     },
     "user_tz": -330
    },
    "id": "elPwrtx0VtZc"
   },
   "outputs": [],
   "source": [
    "model.compile(optimizer=Adam(learning_rate=0.0001),\n",
    "              loss='categorical_crossentropy',\n",
    "              metrics=['accuracy'])\n"
   ]
  },
  {
   "cell_type": "code",
   "execution_count": 45,
   "metadata": {
    "colab": {
     "base_uri": "https://localhost:8080/"
    },
    "id": "8dhGpsIiVx5d",
    "outputId": "1e0305f5-5756-419e-905b-6cc420651b00"
   },
   "outputs": [
    {
     "name": "stdout",
     "output_type": "stream",
     "text": [
      "Epoch 1/20\n"
     ]
    },
    {
     "name": "stderr",
     "output_type": "stream",
     "text": [
      "c:\\Users\\anush\\AppData\\Local\\Programs\\Python\\Python311\\Lib\\site-packages\\keras\\src\\trainers\\data_adapters\\py_dataset_adapter.py:121: UserWarning: Your `PyDataset` class should call `super().__init__(**kwargs)` in its constructor. `**kwargs` can include `workers`, `use_multiprocessing`, `max_queue_size`. Do not pass these arguments to `fit()`, as they will be ignored.\n",
      "  self._warn_if_super_not_called()\n"
     ]
    },
    {
     "name": "stdout",
     "output_type": "stream",
     "text": [
      "\u001b[1m57/57\u001b[0m \u001b[32m━━━━━━━━━━━━━━━━━━━━\u001b[0m\u001b[37m\u001b[0m \u001b[1m40s\u001b[0m 646ms/step - accuracy: 0.2544 - loss: 1.7674 - val_accuracy: 0.5244 - val_loss: 1.1909\n",
      "Epoch 2/20\n",
      "\u001b[1m57/57\u001b[0m \u001b[32m━━━━━━━━━━━━━━━━━━━━\u001b[0m\u001b[37m\u001b[0m \u001b[1m33s\u001b[0m 575ms/step - accuracy: 0.4919 - loss: 1.2405 - val_accuracy: 0.6844 - val_loss: 0.9055\n",
      "Epoch 3/20\n",
      "\u001b[1m57/57\u001b[0m \u001b[32m━━━━━━━━━━━━━━━━━━━━\u001b[0m\u001b[37m\u001b[0m \u001b[1m37s\u001b[0m 644ms/step - accuracy: 0.6147 - loss: 0.9702 - val_accuracy: 0.7289 - val_loss: 0.7442\n",
      "Epoch 4/20\n",
      "\u001b[1m57/57\u001b[0m \u001b[32m━━━━━━━━━━━━━━━━━━━━\u001b[0m\u001b[37m\u001b[0m \u001b[1m34s\u001b[0m 590ms/step - accuracy: 0.6862 - loss: 0.8491 - val_accuracy: 0.7911 - val_loss: 0.6346\n",
      "Epoch 5/20\n",
      "\u001b[1m57/57\u001b[0m \u001b[32m━━━━━━━━━━━━━━━━━━━━\u001b[0m\u001b[37m\u001b[0m \u001b[1m32s\u001b[0m 565ms/step - accuracy: 0.7160 - loss: 0.7063 - val_accuracy: 0.8267 - val_loss: 0.5558\n",
      "Epoch 6/20\n",
      "\u001b[1m57/57\u001b[0m \u001b[32m━━━━━━━━━━━━━━━━━━━━\u001b[0m\u001b[37m\u001b[0m \u001b[1m33s\u001b[0m 583ms/step - accuracy: 0.7658 - loss: 0.6249 - val_accuracy: 0.8489 - val_loss: 0.4958\n",
      "Epoch 7/20\n",
      "\u001b[1m57/57\u001b[0m \u001b[32m━━━━━━━━━━━━━━━━━━━━\u001b[0m\u001b[37m\u001b[0m \u001b[1m32s\u001b[0m 555ms/step - accuracy: 0.7962 - loss: 0.5771 - val_accuracy: 0.8711 - val_loss: 0.4493\n",
      "Epoch 8/20\n",
      "\u001b[1m57/57\u001b[0m \u001b[32m━━━━━━━━━━━━━━━━━━━━\u001b[0m\u001b[37m\u001b[0m \u001b[1m30s\u001b[0m 523ms/step - accuracy: 0.8202 - loss: 0.5122 - val_accuracy: 0.8800 - val_loss: 0.4114\n",
      "Epoch 9/20\n",
      "\u001b[1m57/57\u001b[0m \u001b[32m━━━━━━━━━━━━━━━━━━━━\u001b[0m\u001b[37m\u001b[0m \u001b[1m30s\u001b[0m 534ms/step - accuracy: 0.8400 - loss: 0.4583 - val_accuracy: 0.9022 - val_loss: 0.3788\n",
      "Epoch 10/20\n",
      "\u001b[1m57/57\u001b[0m \u001b[32m━━━━━━━━━━━━━━━━━━━━\u001b[0m\u001b[37m\u001b[0m \u001b[1m33s\u001b[0m 586ms/step - accuracy: 0.8427 - loss: 0.4561 - val_accuracy: 0.9111 - val_loss: 0.3532\n",
      "Epoch 11/20\n",
      "\u001b[1m57/57\u001b[0m \u001b[32m━━━━━━━━━━━━━━━━━━━━\u001b[0m\u001b[37m\u001b[0m \u001b[1m32s\u001b[0m 551ms/step - accuracy: 0.8444 - loss: 0.4344 - val_accuracy: 0.9156 - val_loss: 0.3293\n",
      "Epoch 12/20\n",
      "\u001b[1m57/57\u001b[0m \u001b[32m━━━━━━━━━━━━━━━━━━━━\u001b[0m\u001b[37m\u001b[0m \u001b[1m33s\u001b[0m 573ms/step - accuracy: 0.8555 - loss: 0.3915 - val_accuracy: 0.9156 - val_loss: 0.3091\n",
      "Epoch 13/20\n",
      "\u001b[1m57/57\u001b[0m \u001b[32m━━━━━━━━━━━━━━━━━━━━\u001b[0m\u001b[37m\u001b[0m \u001b[1m33s\u001b[0m 573ms/step - accuracy: 0.8768 - loss: 0.3593 - val_accuracy: 0.9200 - val_loss: 0.2912\n",
      "Epoch 14/20\n",
      "\u001b[1m57/57\u001b[0m \u001b[32m━━━━━━━━━━━━━━━━━━━━\u001b[0m\u001b[37m\u001b[0m \u001b[1m32s\u001b[0m 567ms/step - accuracy: 0.8588 - loss: 0.3737 - val_accuracy: 0.9244 - val_loss: 0.2781\n",
      "Epoch 15/20\n",
      "\u001b[1m57/57\u001b[0m \u001b[32m━━━━━━━━━━━━━━━━━━━━\u001b[0m\u001b[37m\u001b[0m \u001b[1m32s\u001b[0m 558ms/step - accuracy: 0.8923 - loss: 0.3247 - val_accuracy: 0.9333 - val_loss: 0.2632\n",
      "Epoch 16/20\n",
      "\u001b[1m57/57\u001b[0m \u001b[32m━━━━━━━━━━━━━━━━━━━━\u001b[0m\u001b[37m\u001b[0m \u001b[1m32s\u001b[0m 556ms/step - accuracy: 0.8846 - loss: 0.3223 - val_accuracy: 0.9378 - val_loss: 0.2502\n",
      "Epoch 17/20\n",
      "\u001b[1m57/57\u001b[0m \u001b[32m━━━━━━━━━━━━━━━━━━━━\u001b[0m\u001b[37m\u001b[0m \u001b[1m34s\u001b[0m 600ms/step - accuracy: 0.8964 - loss: 0.3079 - val_accuracy: 0.9422 - val_loss: 0.2399\n",
      "Epoch 18/20\n",
      "\u001b[1m57/57\u001b[0m \u001b[32m━━━━━━━━━━━━━━━━━━━━\u001b[0m\u001b[37m\u001b[0m \u001b[1m35s\u001b[0m 617ms/step - accuracy: 0.9049 - loss: 0.2820 - val_accuracy: 0.9467 - val_loss: 0.2301\n",
      "Epoch 19/20\n",
      "\u001b[1m57/57\u001b[0m \u001b[32m━━━━━━━━━━━━━━━━━━━━\u001b[0m\u001b[37m\u001b[0m \u001b[1m33s\u001b[0m 576ms/step - accuracy: 0.8977 - loss: 0.2895 - val_accuracy: 0.9467 - val_loss: 0.2202\n",
      "Epoch 20/20\n",
      "\u001b[1m57/57\u001b[0m \u001b[32m━━━━━━━━━━━━━━━━━━━━\u001b[0m\u001b[37m\u001b[0m \u001b[1m33s\u001b[0m 577ms/step - accuracy: 0.9172 - loss: 0.2496 - val_accuracy: 0.9556 - val_loss: 0.2134\n"
     ]
    }
   ],
   "source": [
    "history = model.fit(\n",
    "    train_generator,\n",
    "    epochs=20,\n",
    "    validation_data=val_generator\n",
    ")\n"
   ]
  },
  {
   "cell_type": "code",
   "execution_count": 75,
   "metadata": {
    "id": "Y3SatxcdaDS0"
   },
   "outputs": [
    {
     "name": "stdout",
     "output_type": "stream",
     "text": [
      "\u001b[1m8/8\u001b[0m \u001b[32m━━━━━━━━━━━━━━━━━━━━\u001b[0m\u001b[37m\u001b[0m \u001b[1m3s\u001b[0m 402ms/step - accuracy: 0.9559 - loss: 0.1846\n",
      "Test Accuracy: 0.96\n"
     ]
    }
   ],
   "source": [
    "loss, accuracy = model.evaluate(test_generator)\n",
    "print(f\"Test Accuracy: {accuracy:.2f}\")\n"
   ]
  },
  {
   "cell_type": "code",
   "execution_count": 76,
   "metadata": {},
   "outputs": [
    {
     "name": "stderr",
     "output_type": "stream",
     "text": [
      "WARNING:absl:You are saving your model as an HDF5 file via `model.save()` or `keras.saving.save_model(model)`. This file format is considered legacy. We recommend using instead the native Keras format, e.g. `model.save('my_model.keras')` or `keras.saving.save_model(model, 'my_model.keras')`. \n"
     ]
    }
   ],
   "source": [
    "# Save the MobileNetV2 model in TensorFlow SavedModel format\n",
    "model.save(\"mobilenetv2_skin_type_model.keras\")\n",
    "\n",
    "# Save MobileNetV2 model in HDF5 format\n",
    "model.save(\"mobilenetv2_skin_type_model.h5\")\n"
   ]
  },
  {
   "cell_type": "code",
   "execution_count": 56,
   "metadata": {
    "id": "mMu_QkmsaNJr"
   },
   "outputs": [
    {
     "data": {
      "image/png": "[encoded data removed]",
      "text/plain": [
       "<Figure size 1200x400 with 2 Axes>"
      ]
     },
     "metadata": {},
     "output_type": "display_data"
    }
   ],
   "source": [
    "plt.figure(figsize=(12, 4))\n",
    "plt.subplot(1, 2, 1)\n",
    "plt.plot(history.history['accuracy'], label='Train')\n",
    "plt.plot(history.history['val_accuracy'], label='Validation')\n",
    "plt.title(\"Accuracy\")\n",
    "plt.legend()\n",
    "\n",
    "plt.subplot(1, 2, 2)\n",
    "plt.plot(history.history['loss'], label='Train')\n",
    "plt.plot(history.history['val_loss'], label='Validation')\n",
    "plt.title(\"Loss\")\n",
    "plt.legend()\n",
    "plt.tight_layout()\n",
    "plt.show()\n"
   ]
  },
  {
   "cell_type": "code",
   "execution_count": 1,
   "metadata": {},
   "outputs": [
    {
     "name": "stdout",
     "output_type": "stream",
     "text": [
      "<function preprocess_input at 0x00000187CE52E0C0>\n"
     ]
    }
   ],
   "source": [
    "from tensorflow.keras.applications import mobilenet_v2\n",
    "print(mobilenet_v2.preprocess_input)\n"
   ]
  },
  {
   "cell_type": "code",
   "execution_count": 70,
   "metadata": {},
   "outputs": [
    {
     "name": "stdout",
     "output_type": "stream",
     "text": [
      "\u001b[1m8/8\u001b[0m \u001b[32m━━━━━━━━━━━━━━━━━━━━\u001b[0m\u001b[37m\u001b[0m \u001b[1m3s\u001b[0m 382ms/step\n",
      "\n",
      "Classification Report:\n",
      "              precision    recall  f1-score   support\n",
      "\n",
      " Combination       0.89      0.93      0.91        45\n",
      "         Dry       1.00      1.00      1.00        45\n",
      "      Normal       1.00      1.00      1.00        45\n",
      "        Oily       0.96      0.96      0.96        45\n",
      "   Sensitive       0.93      0.89      0.91        45\n",
      "\n",
      "    accuracy                           0.96       225\n",
      "   macro avg       0.96      0.96      0.96       225\n",
      "weighted avg       0.96      0.96      0.96       225\n",
      "\n",
      "\n",
      "Confusion Matrix:\n",
      "[[42  0  0  0  3]\n",
      " [ 0 45  0  0  0]\n",
      " [ 0  0 45  0  0]\n",
      " [ 2  0  0 43  0]\n",
      " [ 3  0  0  2 40]]\n"
     ]
    }
   ],
   "source": [
    "\n",
    "# === Predictions ===\n",
    "predictions = model.predict(test_generator)\n",
    "predicted_classes = np.argmax(predictions, axis=1)\n",
    "true_classes = test_generator.classes\n",
    "\n",
    "# === Evaluation Metrics ===\n",
    "print(\"\\nClassification Report:\")\n",
    "print(classification_report(true_classes, predicted_classes, target_names=list(class_labels.values())))\n",
    "\n",
    "print(\"\\nConfusion Matrix:\")\n",
    "print(confusion_matrix(true_classes, predicted_classes))\n",
    "\n",
    "\n"
   ]
  },
  {
   "cell_type": "code",
   "execution_count": 72,
   "metadata": {},
   "outputs": [
    {
     "name": "stdout",
     "output_type": "stream",
     "text": [
      "\u001b[1m8/8\u001b[0m \u001b[32m━━━━━━━━━━━━━━━━━━━━\u001b[0m\u001b[37m\u001b[0m \u001b[1m3s\u001b[0m 406ms/step\n",
      "\n",
      "📊 Classification Report (Validation Set):\n",
      "              precision    recall  f1-score   support\n",
      "\n",
      " Combination       0.88      0.93      0.90        45\n",
      "         Dry       1.00      1.00      1.00        45\n",
      "      Normal       1.00      1.00      1.00        45\n",
      "        Oily       1.00      0.96      0.98        45\n",
      "   Sensitive       0.91      0.89      0.90        45\n",
      "\n",
      "    accuracy                           0.96       225\n",
      "   macro avg       0.96      0.96      0.96       225\n",
      "weighted avg       0.96      0.96      0.96       225\n",
      "\n",
      "\n",
      "Confusion Matrix:\n",
      "[[42  0  0  0  3]\n",
      " [ 0 45  0  0  0]\n",
      " [ 0  0 45  0  0]\n",
      " [ 1  0  0 43  1]\n",
      " [ 5  0  0  0 40]]\n"
     ]
    }
   ],
   "source": [
    "from sklearn.metrics import classification_report\n",
    "import numpy as np\n",
    "\n",
    "# === True & Predicted Labels ===\n",
    "true_labels = val_generator.classes\n",
    "pred_probs = model.predict(val_generator)\n",
    "pred_labels = np.argmax(pred_probs, axis=1)\n",
    "\n",
    "# === Label Mapping ===\n",
    "label_map = val_generator.class_indices  # e.g., {'Dry': 0, 'Oily': 1, ...}\n",
    "index_to_label = {v: k for k, v in label_map.items()}\n",
    "target_names = [index_to_label[i] for i in sorted(index_to_label)]\n",
    "\n",
    "# === Classification Report ===\n",
    "print(\"\\n📊 Classification Report (Validation Set):\")\n",
    "print(classification_report(true_labels, pred_labels, target_names=target_names))\n",
    "\n",
    "print(\"\\nConfusion Matrix:\")\n",
    "print(confusion_matrix(true_labels, pred_labels))\n"
   ]
  }
 ],
 "metadata": {
  "colab": {
   "authorship_tag": "ABX9TyPwYv0933ZQ/8hViwAjJSWx",
   "provenance": []
  },
  "kernelspec": {
   "display_name": "Python 3",
   "name": "python3"
  },
  "language_info": {
   "codemirror_mode": {
    "name": "ipython",
    "version": 3
   },
   "file_extension": ".py",
   "mimetype": "text/x-python",
   "name": "python",
   "nbconvert_exporter": "python",
   "pygments_lexer": "ipython3",
   "version": "3.11.0"
  }
 },
 "nbformat": 4,
 "nbformat_minor": 0
}
